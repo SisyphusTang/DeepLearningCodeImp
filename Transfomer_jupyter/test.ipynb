{
 "cells": [
  {
   "cell_type": "code",
   "execution_count": 5,
   "metadata": {},
   "outputs": [],
   "source": [
    "import torch\n",
    "import torch.nn as nn\n",
    "import torch.functional as F\n",
    "from torch.utils.data import Dataset, DataLoader"
   ]
  },
  {
   "cell_type": "code",
   "execution_count": 8,
   "metadata": {},
   "outputs": [],
   "source": [
    "class MyDataloader(Dataset):\n",
    "    def __init__(self, data):\n",
    "        self.data = data\n",
    "    \n",
    "    def __len__(self):\n",
    "        return len(self.data)\n",
    "    \n",
    "    def __getitem__(self,idx):\n",
    "        return self.data[idx]\n"
   ]
  },
  {
   "cell_type": "code",
   "execution_count": 12,
   "metadata": {},
   "outputs": [
    {
     "name": "stdout",
     "output_type": "stream",
     "text": [
      "[[0.09127078 0.4999268 ]\n",
      " [0.49922849 0.00663025]\n",
      " [0.53628351 0.20880711]\n",
      " [0.4339119  0.1384567 ]\n",
      " [0.26241986 0.54903677]\n",
      " [0.00808484 0.44801729]\n",
      " [0.22049767 0.65857522]\n",
      " [0.24128505 0.9263884 ]]\n",
      "tensor([[0.0913, 0.4999],\n",
      "        [0.4992, 0.0066]], dtype=torch.float64)\n",
      "tensor([[0.5363, 0.2088],\n",
      "        [0.4339, 0.1385]], dtype=torch.float64)\n",
      "tensor([[0.2624, 0.5490],\n",
      "        [0.0081, 0.4480]], dtype=torch.float64)\n",
      "tensor([[0.2205, 0.6586],\n",
      "        [0.2413, 0.9264]], dtype=torch.float64)\n"
     ]
    }
   ],
   "source": [
    "import numpy\n",
    "l = numpy.random.rand(8,2)\n",
    "loader = DataLoader(MyDataloader(l), batch_size=2, shuffle=True)\n",
    "print(l)\n",
    "for batch in loader:\n",
    "    print(batch)"
   ]
  },
  {
   "cell_type": "code",
   "execution_count": 32,
   "metadata": {},
   "outputs": [
    {
     "name": "stdout",
     "output_type": "stream",
     "text": [
      "tensor([1, 2, 3, 4, 5])\n",
      "tensor([2, 4])\n",
      "tensor([[0.5000, 0.2500],\n",
      "        [1.0000, 0.5000],\n",
      "        [1.5000, 0.7500],\n",
      "        [2.0000, 1.0000],\n",
      "        [2.5000, 1.2500]])\n"
     ]
    }
   ],
   "source": [
    "t = torch.arange(1,6)\n",
    "print(t)\n",
    "# x = t.unsqueeze(1)\n",
    "z =  torch.arange(2,5,2)\n",
    "print(z)\n",
    "print(x / z)"
   ]
  },
  {
   "cell_type": "code",
   "execution_count": 10,
   "metadata": {},
   "outputs": [
    {
     "name": "stdout",
     "output_type": "stream",
     "text": [
      "[tensor([3, 5]), tensor([4, 6])]\n",
      "[tensor([1]), tensor([2])]\n"
     ]
    }
   ],
   "source": [
    "import torch\n",
    "from torch.utils.data import Dataset, DataLoader\n",
    "\n",
    "# 定义自定义的 DataSet 类\n",
    "class CustomDataset(Dataset):\n",
    "    def __init__(self, data):\n",
    "        self.data = data\n",
    "\n",
    "    def __len__(self):\n",
    "        return len(self.data)\n",
    "\n",
    "    def __getitem__(self, idx):\n",
    "        sample = self.data[idx]\n",
    "        return sample\n",
    "\n",
    "# 创建一些示例数据\n",
    "data = [[1, 2], [3, 4], [5, 6]]\n",
    "\n",
    "# 创建自定义的 DataSet 对象\n",
    "dataset = CustomDataset(data)\n",
    "\n",
    "# 创建 DataLoader 对象，用于批量加载数据\n",
    "dataloader = DataLoader(dataset, batch_size=2, shuffle=True)\n",
    "\n",
    "# 遍历 DataLoader，获取批量数据\n",
    "for batch in dataloader:\n",
    "    print(batch)\n"
   ]
  }
 ],
 "metadata": {
  "kernelspec": {
   "display_name": "demo_jupyter",
   "language": "python",
   "name": "demo_jupyter"
  },
  "language_info": {
   "codemirror_mode": {
    "name": "ipython",
    "version": 3
   },
   "file_extension": ".py",
   "mimetype": "text/x-python",
   "name": "python",
   "nbconvert_exporter": "python",
   "pygments_lexer": "ipython3",
   "version": "3.11.7"
  }
 },
 "nbformat": 4,
 "nbformat_minor": 2
}
